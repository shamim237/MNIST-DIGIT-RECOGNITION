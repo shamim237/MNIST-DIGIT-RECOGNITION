{
  "nbformat": 4,
  "nbformat_minor": 0,
  "metadata": {
    "colab": {
      "name": "MNIST.ipynb",
      "provenance": [],
      "authorship_tag": "ABX9TyMNWzc/MWe+4gxJ0QJhFsta",
      "include_colab_link": true
    },
    "kernelspec": {
      "name": "python3",
      "display_name": "Python 3"
    },
    "accelerator": "GPU"
  },
  "cells": [
    {
      "cell_type": "markdown",
      "metadata": {
        "id": "view-in-github",
        "colab_type": "text"
      },
      "source": [
        "<a href=\"https://colab.research.google.com/github/shamim237/MNIST-DIGIT-RECOGNITION/blob/main/MNIST.ipynb\" target=\"_parent\"><img src=\"https://colab.research.google.com/assets/colab-badge.svg\" alt=\"Open In Colab\"/></a>"
      ]
    },
    {
      "cell_type": "code",
      "metadata": {
        "colab": {
          "base_uri": "https://localhost:8080/"
        },
        "id": "5RC1JJZnxiTJ",
        "outputId": "6d764e2a-126e-4313-e10f-97f334bc2b77"
      },
      "source": [
        "from google.colab import drive\n",
        "drive.mount('/content/drive')"
      ],
      "execution_count": null,
      "outputs": [
        {
          "output_type": "stream",
          "text": [
            "Drive already mounted at /content/drive; to attempt to forcibly remount, call drive.mount(\"/content/drive\", force_remount=True).\n"
          ],
          "name": "stdout"
        }
      ]
    },
    {
      "cell_type": "code",
      "metadata": {
        "colab": {
          "base_uri": "https://localhost:8080/"
        },
        "id": "SQ5noS0KjWyd",
        "outputId": "3a0da010-3d63-4158-9c46-59931862a8bd"
      },
      "source": [
        "import tensorflow as tf\r\n",
        "import keras\r\n",
        "import numpy as np\r\n",
        "from tensorflow.keras.preprocessing.image import ImageDataGenerator, load_img\r\n",
        "from keras import layers\r\n",
        "from keras.datasets import mnist\r\n",
        "\r\n",
        "from keras.layers import Input, Add, Dense,GlobalAvgPool2D, Concatenate, AvgPool2D, Dropout, ReLU, Activation, MaxPool2D, ZeroPadding2D, BatchNormalization, Flatten, Conv2D, GlobalAveragePooling2D, AveragePooling2D, MaxPooling2D, GlobalMaxPooling2D\r\n",
        "from keras.models import Model, load_model, Sequential\r\n",
        "\r\n",
        "from tensorflow.keras.preprocessing import image\r\n",
        "from tensorflow.keras.optimizers import RMSprop, Adam, SGD\r\n",
        "from keras.utils import layer_utils\r\n",
        "from keras.utils.data_utils import get_file\r\n",
        "from keras.applications.imagenet_utils import preprocess_input\r\n",
        "import pydot\r\n",
        "from IPython.display import SVG\r\n",
        "from keras.utils.vis_utils import model_to_dot\r\n",
        "from keras.utils import plot_model\r\n",
        "\r\n",
        "from keras.initializers import glorot_uniform\r\n",
        "import scipy.misc\r\n",
        "import cv2\r\n",
        "import os \r\n",
        "from os import listdir\r\n",
        "from os.path import isfile, join\r\n",
        "import matplotlib.pyplot as plt\r\n",
        "\r\n",
        "%matplotlib inline\r\n",
        "\r\n",
        "from keras import backend as K\r\n",
        "K.set_image_data_format('channels_last')\r\n",
        "K.set_learning_phase(1)\r\n"
      ],
      "execution_count": null,
      "outputs": [
        {
          "output_type": "stream",
          "text": [
            "/usr/local/lib/python3.7/dist-packages/tensorflow/python/keras/backend.py:434: UserWarning: `tf.keras.backend.set_learning_phase` is deprecated and will be removed after 2020-10-11. To update it, simply pass a True/False value to the `training` argument of the `__call__` method of your layer or model.\n",
            "  warnings.warn('`tf.keras.backend.set_learning_phase` is deprecated and '\n"
          ],
          "name": "stderr"
        }
      ]
    },
    {
      "cell_type": "code",
      "metadata": {
        "id": "Ua1NOBablcU6"
      },
      "source": [
        "(x_train, y_train), (x_test, y_test)= mnist.load_data()"
      ],
      "execution_count": null,
      "outputs": []
    },
    {
      "cell_type": "code",
      "metadata": {
        "colab": {
          "base_uri": "https://localhost:8080/"
        },
        "id": "SS-dkBSAlxEy",
        "outputId": "78760601-4171-46a0-f57a-29919b76694e"
      },
      "source": [
        "x_train.shape"
      ],
      "execution_count": null,
      "outputs": [
        {
          "output_type": "execute_result",
          "data": {
            "text/plain": [
              "(60000, 28, 28)"
            ]
          },
          "metadata": {
            "tags": []
          },
          "execution_count": 252
        }
      ]
    },
    {
      "cell_type": "code",
      "metadata": {
        "colab": {
          "base_uri": "https://localhost:8080/",
          "height": 282
        },
        "id": "MDk3OiBZmlua",
        "outputId": "1f4c114d-783d-4df0-ed80-5d29f89ec848"
      },
      "source": [
        "plt.imshow(x_train[1])\r\n",
        "\r\n",
        "\r\n",
        "print(\"Corresponding class to the image: \",y_train[1])"
      ],
      "execution_count": null,
      "outputs": [
        {
          "output_type": "stream",
          "text": [
            "Corresponding class to the image:  0\n"
          ],
          "name": "stdout"
        },
        {
          "output_type": "display_data",
          "data": {
            "image/png": "[encoded data removed]",
            "text/plain": [
              "<Figure size 432x288 with 1 Axes>"
            ]
          },
          "metadata": {
            "tags": [],
            "needs_background": "light"
          }
        }
      ]
    },
    {
      "cell_type": "code",
      "metadata": {
        "id": "oUcNrGJWmuwY"
      },
      "source": [
        "img_rows, img_cols = 28, 28\r\n",
        "\r\n",
        "x_train = x_train.reshape(x_train.shape[0], img_rows*img_cols)\r\n",
        "x_test = x_test.reshape(x_test.shape[0], img_rows*img_cols)\r\n",
        "input_shape = (img_rows * img_cols)"
      ],
      "execution_count": null,
      "outputs": []
    },
    {
      "cell_type": "code",
      "metadata": {
        "colab": {
          "base_uri": "https://localhost:8080/"
        },
        "id": "8Y7G2xQ3nTrr",
        "outputId": "0b595bb6-bd4f-47b1-da09-5d5fe58a36b6"
      },
      "source": [
        "x_train.shape, x_test.shape"
      ],
      "execution_count": null,
      "outputs": [
        {
          "output_type": "execute_result",
          "data": {
            "text/plain": [
              "((60000, 784), (10000, 784))"
            ]
          },
          "metadata": {
            "tags": []
          },
          "execution_count": 255
        }
      ]
    },
    {
      "cell_type": "code",
      "metadata": {
        "colab": {
          "base_uri": "https://localhost:8080/"
        },
        "id": "FKzfQPXdna7S",
        "outputId": "18db42a7-98d9-4a04-d277-60cc94b2eba9"
      },
      "source": [
        "x_train = x_train.astype('float32')\r\n",
        "x_test = x_test.astype('float32')\r\n",
        "x_train /= 255\r\n",
        "x_test /= 255\r\n",
        "print('x_train shape:', x_train.shape)\r\n",
        "print(x_train.shape[0], 'train samples')\r\n",
        "print(x_test.shape[0], 'test samples')"
      ],
      "execution_count": null,
      "outputs": [
        {
          "output_type": "stream",
          "text": [
            "x_train shape: (60000, 784)\n",
            "60000 train samples\n",
            "10000 test samples\n"
          ],
          "name": "stdout"
        }
      ]
    },
    {
      "cell_type": "code",
      "metadata": {
        "id": "wvudaElon6s5"
      },
      "source": [
        "batch_size = 128\r\n",
        "num_classes = 10\r\n",
        "epochs =15"
      ],
      "execution_count": null,
      "outputs": []
    },
    {
      "cell_type": "code",
      "metadata": {
        "id": "Djr5c6NNntCS"
      },
      "source": [
        "y_train = keras.utils.to_categorical(y_train, num_classes)\r\n",
        "y_test = keras.utils.to_categorical(y_test, num_classes)"
      ],
      "execution_count": null,
      "outputs": []
    },
    {
      "cell_type": "code",
      "metadata": {
        "id": "qxsPBYWtn9MQ"
      },
      "source": [
        "model = Sequential()\r\n",
        "model.add(Dense(2048, activation= 'relu', input_shape=(784, )))\r\n",
        "model.add(Dense(1024, activation = 'relu'))\r\n",
        "model.add(Dense(512, activation = 'relu'))\r\n",
        "model.add(Dense(256, activation= 'relu'))\r\n",
        "model.add(Dense(128, activation='relu'))\r\n",
        "model.add(Dense(64, activation='relu'))\r\n",
        "model.add(Dense(32, activation='relu'))\r\n",
        "model.add(Dense(10, activation='softmax'))"
      ],
      "execution_count": null,
      "outputs": []
    },
    {
      "cell_type": "code",
      "metadata": {
        "colab": {
          "base_uri": "https://localhost:8080/"
        },
        "id": "nKOjo3z2oFeo",
        "outputId": "5d9f2dbc-54dd-482e-cc6a-3a87c8b820b3"
      },
      "source": [
        "model.summary()"
      ],
      "execution_count": null,
      "outputs": [
        {
          "output_type": "stream",
          "text": [
            "Model: \"sequential_15\"\n",
            "_________________________________________________________________\n",
            "Layer (type)                 Output Shape              Param #   \n",
            "=================================================================\n",
            "dense_55 (Dense)             (None, 2048)              1607680   \n",
            "_________________________________________________________________\n",
            "dense_56 (Dense)             (None, 1024)              2098176   \n",
            "_________________________________________________________________\n",
            "dense_57 (Dense)             (None, 512)               524800    \n",
            "_________________________________________________________________\n",
            "dense_58 (Dense)             (None, 256)               131328    \n",
            "_________________________________________________________________\n",
            "dense_59 (Dense)             (None, 128)               32896     \n",
            "_________________________________________________________________\n",
            "dense_60 (Dense)             (None, 64)                8256      \n",
            "_________________________________________________________________\n",
            "dense_61 (Dense)             (None, 32)                2080      \n",
            "_________________________________________________________________\n",
            "dense_62 (Dense)             (None, 10)                330       \n",
            "=================================================================\n",
            "Total params: 4,405,546\n",
            "Trainable params: 4,405,546\n",
            "Non-trainable params: 0\n",
            "_________________________________________________________________\n"
          ],
          "name": "stdout"
        }
      ]
    },
    {
      "cell_type": "code",
      "metadata": {
        "id": "eX5GQWmgoI7Z"
      },
      "source": [
        "model.compile(optimizer= Adam(lr= 0.0001), loss='categorical_crossentropy', metrics=['accuracy'])"
      ],
      "execution_count": null,
      "outputs": []
    },
    {
      "cell_type": "code",
      "metadata": {
        "colab": {
          "base_uri": "https://localhost:8080/"
        },
        "id": "6vqJZxdeofkE",
        "outputId": "07de390a-2945-41ad-8a82-dce4a3fa0d1a"
      },
      "source": [
        "model.fit(x_train, y_train,\r\n",
        "          batch_size=batch_size,\r\n",
        "          epochs=epochs,\r\n",
        "          verbose=1,\r\n",
        "          validation_data=(x_test, y_test))"
      ],
      "execution_count": null,
      "outputs": [
        {
          "output_type": "stream",
          "text": [
            "Epoch 1/15\n",
            "469/469 [==============================] - 2s 4ms/step - loss: 0.8095 - accuracy: 0.7831 - val_loss: 0.1927 - val_accuracy: 0.9453\n",
            "Epoch 2/15\n",
            "469/469 [==============================] - 2s 4ms/step - loss: 0.1411 - accuracy: 0.9598 - val_loss: 0.1182 - val_accuracy: 0.9655\n",
            "Epoch 3/15\n",
            "469/469 [==============================] - 2s 4ms/step - loss: 0.0918 - accuracy: 0.9731 - val_loss: 0.0900 - val_accuracy: 0.9718\n",
            "Epoch 4/15\n",
            "469/469 [==============================] - 2s 4ms/step - loss: 0.0611 - accuracy: 0.9821 - val_loss: 0.0797 - val_accuracy: 0.9752\n",
            "Epoch 5/15\n",
            "469/469 [==============================] - 2s 4ms/step - loss: 0.0415 - accuracy: 0.9883 - val_loss: 0.0736 - val_accuracy: 0.9780\n",
            "Epoch 6/15\n",
            "469/469 [==============================] - 2s 4ms/step - loss: 0.0275 - accuracy: 0.9917 - val_loss: 0.0770 - val_accuracy: 0.9748\n",
            "Epoch 7/15\n",
            "469/469 [==============================] - 2s 4ms/step - loss: 0.0226 - accuracy: 0.9931 - val_loss: 0.0739 - val_accuracy: 0.9783\n",
            "Epoch 8/15\n",
            "469/469 [==============================] - 2s 4ms/step - loss: 0.0149 - accuracy: 0.9956 - val_loss: 0.0677 - val_accuracy: 0.9805\n",
            "Epoch 9/15\n",
            "469/469 [==============================] - 2s 4ms/step - loss: 0.0112 - accuracy: 0.9971 - val_loss: 0.0772 - val_accuracy: 0.9786\n",
            "Epoch 10/15\n",
            "469/469 [==============================] - 2s 4ms/step - loss: 0.0105 - accuracy: 0.9969 - val_loss: 0.0790 - val_accuracy: 0.9793\n",
            "Epoch 11/15\n",
            "469/469 [==============================] - 2s 4ms/step - loss: 0.0086 - accuracy: 0.9976 - val_loss: 0.0866 - val_accuracy: 0.9790\n",
            "Epoch 12/15\n",
            "469/469 [==============================] - 2s 4ms/step - loss: 0.0082 - accuracy: 0.9975 - val_loss: 0.0806 - val_accuracy: 0.9793\n",
            "Epoch 13/15\n",
            "469/469 [==============================] - 2s 4ms/step - loss: 0.0108 - accuracy: 0.9965 - val_loss: 0.0765 - val_accuracy: 0.9808\n",
            "Epoch 14/15\n",
            "469/469 [==============================] - 2s 4ms/step - loss: 0.0061 - accuracy: 0.9982 - val_loss: 0.1156 - val_accuracy: 0.9719\n",
            "Epoch 15/15\n",
            "469/469 [==============================] - 2s 4ms/step - loss: 0.0073 - accuracy: 0.9978 - val_loss: 0.0746 - val_accuracy: 0.9840\n"
          ],
          "name": "stdout"
        },
        {
          "output_type": "execute_result",
          "data": {
            "text/plain": [
              "<tensorflow.python.keras.callbacks.History at 0x7f028407cb50>"
            ]
          },
          "metadata": {
            "tags": []
          },
          "execution_count": 262
        }
      ]
    },
    {
      "cell_type": "code",
      "metadata": {
        "id": "yXsVdR_upoDI"
      },
      "source": [
        "model.save('./model.h5')"
      ],
      "execution_count": null,
      "outputs": []
    },
    {
      "cell_type": "code",
      "metadata": {
        "colab": {
          "base_uri": "https://localhost:8080/"
        },
        "id": "vEzIcnUvwDFd",
        "outputId": "55409c06-3119-4f4c-8370-49f6ce633860"
      },
      "source": [
        "score = model.evaluate(x_test, y_test, verbose=0)\r\n",
        "\r\n",
        "print('Test loss:', score[0])\r\n",
        "print('Test accuracy:', score[1])"
      ],
      "execution_count": null,
      "outputs": [
        {
          "output_type": "stream",
          "text": [
            "Test loss: 0.07461471110582352\n",
            "Test accuracy: 0.984000027179718\n"
          ],
          "name": "stdout"
        }
      ]
    },
    {
      "cell_type": "code",
      "metadata": {
        "colab": {
          "base_uri": "https://localhost:8080/"
        },
        "id": "u1Su_jYvwJYD",
        "outputId": "79f0cb41-4aad-4c03-a4d7-d039ba51d913"
      },
      "source": [
        "test_data = x_test[0].reshape(1, 784)\r\n",
        "test_data.shape"
      ],
      "execution_count": null,
      "outputs": [
        {
          "output_type": "execute_result",
          "data": {
            "text/plain": [
              "(1, 784)"
            ]
          },
          "metadata": {
            "tags": []
          },
          "execution_count": 265
        }
      ]
    },
    {
      "cell_type": "code",
      "metadata": {
        "colab": {
          "base_uri": "https://localhost:8080/"
        },
        "id": "A18pVCJdwNW1",
        "outputId": "5bae1f2e-134f-40f3-e286-312c97d4916d"
      },
      "source": [
        "\r\n",
        "predict = model.predict(test_data)\r\n",
        "predict = np.argmax(predict, axis=1)\r\n",
        "predict"
      ],
      "execution_count": null,
      "outputs": [
        {
          "output_type": "stream",
          "text": [
            "WARNING:tensorflow:8 out of the last 11 calls to <function Model.make_predict_function.<locals>.predict_function at 0x7f027e68dcb0> triggered tf.function retracing. Tracing is expensive and the excessive number of tracings could be due to (1) creating @tf.function repeatedly in a loop, (2) passing tensors with different shapes, (3) passing Python objects instead of tensors. For (1), please define your @tf.function outside of the loop. For (2), @tf.function has experimental_relax_shapes=True option that relaxes argument shapes that can avoid unnecessary retracing. For (3), please refer to https://www.tensorflow.org/guide/function#controlling_retracing and https://www.tensorflow.org/api_docs/python/tf/function for  more details.\n"
          ],
          "name": "stdout"
        },
        {
          "output_type": "execute_result",
          "data": {
            "text/plain": [
              "array([7])"
            ]
          },
          "metadata": {
            "tags": []
          },
          "execution_count": 266
        }
      ]
    },
    {
      "cell_type": "code",
      "metadata": {
        "id": "ohNpVVk-yv2R"
      },
      "source": [
        "img = cv2.imread(\"/content/drive/MyDrive/download.png\")"
      ],
      "execution_count": null,
      "outputs": []
    },
    {
      "cell_type": "code",
      "metadata": {
        "colab": {
          "base_uri": "https://localhost:8080/",
          "height": 286
        },
        "id": "p8T-NcDXy2mN",
        "outputId": "c2869adb-b8f9-47e0-a63b-361cbdded82a"
      },
      "source": [
        "plt.imshow(img)"
      ],
      "execution_count": null,
      "outputs": [
        {
          "output_type": "execute_result",
          "data": {
            "text/plain": [
              "<matplotlib.image.AxesImage at 0x7f027e54d7d0>"
            ]
          },
          "metadata": {
            "tags": []
          },
          "execution_count": 276
        },
        {
          "output_type": "display_data",
          "data": {
            "image/png": "[encoded data removed]",
            "text/plain": [
              "<Figure size 432x288 with 1 Axes>"
            ]
          },
          "metadata": {
            "tags": [],
            "needs_background": "light"
          }
        }
      ]
    },
    {
      "cell_type": "code",
      "metadata": {
        "colab": {
          "base_uri": "https://localhost:8080/"
        },
        "id": "wVds_5jny4rz",
        "outputId": "6f6ac59c-2ed9-46ee-b29e-7cac2a4555e8"
      },
      "source": [
        "img = cv2.resize(img, (28, 28))\r\n",
        "img.shape"
      ],
      "execution_count": null,
      "outputs": [
        {
          "output_type": "execute_result",
          "data": {
            "text/plain": [
              "(28, 28, 3)"
            ]
          },
          "metadata": {
            "tags": []
          },
          "execution_count": 277
        }
      ]
    },
    {
      "cell_type": "code",
      "metadata": {
        "colab": {
          "base_uri": "https://localhost:8080/"
        },
        "id": "pFSswljky-Ff",
        "outputId": "e52d5a71-8415-49ab-99cd-cb8cf9c7fb4d"
      },
      "source": [
        "img_gray = cv2.cvtColor(img, cv2.COLOR_BGR2GRAY)\r\n",
        "img_gray.shape"
      ],
      "execution_count": null,
      "outputs": [
        {
          "output_type": "execute_result",
          "data": {
            "text/plain": [
              "(28, 28)"
            ]
          },
          "metadata": {
            "tags": []
          },
          "execution_count": 278
        }
      ]
    },
    {
      "cell_type": "code",
      "metadata": {
        "colab": {
          "base_uri": "https://localhost:8080/",
          "height": 282
        },
        "id": "xQ9WfEhHy_1G",
        "outputId": "8c800f78-4c8f-4481-c8e5-529ac19861a2"
      },
      "source": [
        "plt.imshow(img_gray)"
      ],
      "execution_count": null,
      "outputs": [
        {
          "output_type": "execute_result",
          "data": {
            "text/plain": [
              "<matplotlib.image.AxesImage at 0x7f027e533310>"
            ]
          },
          "metadata": {
            "tags": []
          },
          "execution_count": 279
        },
        {
          "output_type": "display_data",
          "data": {
            "image/png": "[encoded data removed]",
            "text/plain": [
              "<Figure size 432x288 with 1 Axes>"
            ]
          },
          "metadata": {
            "tags": [],
            "needs_background": "light"
          }
        }
      ]
    },
    {
      "cell_type": "code",
      "metadata": {
        "id": "TET0l7yQzHB-"
      },
      "source": [
        "img = img_gray.reshape(1, 28*28)"
      ],
      "execution_count": null,
      "outputs": []
    },
    {
      "cell_type": "code",
      "metadata": {
        "id": "uwmQGuBizKG7"
      },
      "source": [
        "pred = model.predict(img)\r\n",
        "output = np.argmax(pred, axis=1)"
      ],
      "execution_count": null,
      "outputs": []
    },
    {
      "cell_type": "code",
      "metadata": {
        "colab": {
          "base_uri": "https://localhost:8080/"
        },
        "id": "T5-gkg5szPl0",
        "outputId": "707a22c5-5945-493e-f80b-afea9e2a6256"
      },
      "source": [
        "output"
      ],
      "execution_count": null,
      "outputs": [
        {
          "output_type": "execute_result",
          "data": {
            "text/plain": [
              "array([3])"
            ]
          },
          "metadata": {
            "tags": []
          },
          "execution_count": 282
        }
      ]
    }
  ]
}